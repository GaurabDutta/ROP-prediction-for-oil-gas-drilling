{
 "cells": [
  {
   "cell_type": "code",
   "execution_count": null,
   "metadata": {
    "id": "AIS2tEc34Uir"
   },
   "outputs": [],
   "source": [
    "!pip install -r requirements.txt"
   ]
  },
  {
   "cell_type": "code",
   "execution_count": null,
   "metadata": {
    "id": "LXomiTaz4Ui-"
   },
   "outputs": [],
   "source": [
    "# import libraries\n",
    "import pandas as pd\n",
    "import numpy as np\n",
    "import pickle\n",
    "\n",
    "%matplotlib inline\n",
    "import matplotlib.pyplot as plt\n",
    "import seaborn as sns\n",
    "plt.style.use('ggplot')\n",
    "\n",
    "import warnings\n",
    "warnings.filterwarnings('ignore')\n",
    "\n",
    "# import sklearn libararies \n",
    "from sklearn.metrics import mean_absolute_error\n",
    "from sklearn.ensemble import RandomForestRegressor"
   ]
  },
  {
   "cell_type": "code",
   "execution_count": null,
   "metadata": {
    "id": "38-hABy34UjB"
   },
   "outputs": [],
   "source": [
    "class Model(object):\n",
    "    def __init__(self, model_file):\n",
    "        # Load pre-trained model from file\n",
    "        self.model = pickle.load(open(model_file, 'rb'))\n",
    "        \n",
    "    def _preprocess(self, features):\n",
    "        # Add all your preprocessing steps\n",
    "        # Method to be run before inference. Contains things like\n",
    "        # stripping unwanted columns, replacing NaNs, and scaling \n",
    "        # or normalizing data\n",
    "        features.replace(['-999', -999], np.nan, inplace=True)\n",
    "        features.fillna(0, inplace=True)\n",
    "        features.drop(['Well Identifier', 'Measured Depth m', 'Mud Flow In L/min', 'Hole Depth (TVD) m'], \n",
    "                      axis='columns', inplace=True)\n",
    "        return features\n",
    "        \n",
    "    def predict(self, features):\n",
    "        # This function should be able to take in features in their\n",
    "        # raw, unprocessed form as read from the file test.csv and\n",
    "        # return predictions as an array integers of the same length\n",
    "        X = self._preprocess(features)\n",
    "        y_pred = self.model.predict(X)\n",
    "        for i in range(len(y_pred)):\n",
    "            if ( y_pred[i] < 0):\n",
    "                y_pred[i] = 0.0 + np.random.randint(0, 20000)/1000\n",
    "\n",
    "        return y_pred"
   ]
  },
  {
   "cell_type": "code",
   "execution_count": null,
   "metadata": {
    "id": "yq0yQu594UjE"
   },
   "outputs": [],
   "source": [
    "# Start the model with RandomForest Regressor\n",
    "mm = Model('model.pkl')\n",
    "\n",
    "# Provide input file containing features here\n",
    "test_data = pd.read_csv('tech_challenge2021_test.csv')\n",
    "\n",
    "# Predict the output\n",
    "y_pred = mm.predict(test_data)\n",
    "\n",
    "# Save the predicted value to \"result.csv\" file\n",
    "np.savetxt('result.csv', y_pred, header='Rate of Penetration', comments='', fmt='%f')"
   ]
  }
 ],
 "metadata": {
  "colab": {
   "collapsed_sections": [],
   "name": "Inference code example.ipynb",
   "provenance": []
  },
  "kernelspec": {
   "display_name": "Python 3",
   "language": "python",
   "name": "python3"
  },
  "language_info": {
   "codemirror_mode": {
    "name": "ipython",
    "version": 3
   },
   "file_extension": ".py",
   "mimetype": "text/x-python",
   "name": "python",
   "nbconvert_exporter": "python",
   "pygments_lexer": "ipython3",
   "version": "3.8.5"
  }
 },
 "nbformat": 4,
 "nbformat_minor": 1
}
